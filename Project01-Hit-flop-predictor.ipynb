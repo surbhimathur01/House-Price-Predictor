{
 "cells": [
  {
   "cell_type": "code",
   "execution_count": 1,
   "id": "67df3432-b03e-43f8-846a-cfd8fe0fbb2f",
   "metadata": {},
   "outputs": [],
   "source": [
    "import numpy as np"
   ]
  },
  {
   "cell_type": "code",
   "execution_count": 2,
   "id": "d8618dff-54f0-4445-9c5c-b2f7ba9b260d",
   "metadata": {},
   "outputs": [],
   "source": [
    "import pandas as pd"
   ]
  },
  {
   "cell_type": "code",
   "execution_count": 3,
   "id": "bb98a75f-d3b1-4beb-87fc-16f40048c7ec",
   "metadata": {},
   "outputs": [],
   "source": [
    "import matplotlib.pyplot as plt"
   ]
  },
  {
   "cell_type": "code",
   "execution_count": 4,
   "id": "ef459fbd-d181-481d-afad-f778c06a101e",
   "metadata": {},
   "outputs": [],
   "source": [
    "import seaborn as sns"
   ]
  },
  {
   "cell_type": "code",
   "execution_count": 5,
   "id": "970496ce-fbe3-4af2-bcfa-b822cd64f686",
   "metadata": {},
   "outputs": [],
   "source": [
    "p= pd.read_csv('BollywoodMovieDetail.csv')"
   ]
  },
  {
   "cell_type": "code",
   "execution_count": 6,
   "id": "c2794f49-0b09-4ea9-9d46-bed45ea35c23",
   "metadata": {},
   "outputs": [
    {
     "data": {
      "text/html": [
       "<div>\n",
       "<style scoped>\n",
       "    .dataframe tbody tr th:only-of-type {\n",
       "        vertical-align: middle;\n",
       "    }\n",
       "\n",
       "    .dataframe tbody tr th {\n",
       "        vertical-align: top;\n",
       "    }\n",
       "\n",
       "    .dataframe thead th {\n",
       "        text-align: right;\n",
       "    }\n",
       "</style>\n",
       "<table border=\"1\" class=\"dataframe\">\n",
       "  <thead>\n",
       "    <tr style=\"text-align: right;\">\n",
       "      <th></th>\n",
       "      <th>imdbId</th>\n",
       "      <th>title</th>\n",
       "      <th>releaseYear</th>\n",
       "      <th>releaseDate</th>\n",
       "      <th>genre</th>\n",
       "      <th>writers</th>\n",
       "      <th>actors</th>\n",
       "      <th>directors</th>\n",
       "      <th>sequel</th>\n",
       "      <th>hitFlop</th>\n",
       "    </tr>\n",
       "  </thead>\n",
       "  <tbody>\n",
       "    <tr>\n",
       "      <th>0</th>\n",
       "      <td>tt0118578</td>\n",
       "      <td>Albela</td>\n",
       "      <td>2001</td>\n",
       "      <td>20 Apr 2001</td>\n",
       "      <td>Romance</td>\n",
       "      <td>Honey Irani (screenplay) | Honey Irani (story)...</td>\n",
       "      <td>Govinda | Aishwarya Rai Bachchan | Jackie Shro...</td>\n",
       "      <td>Deepak Sareen</td>\n",
       "      <td>0.0</td>\n",
       "      <td>2</td>\n",
       "    </tr>\n",
       "    <tr>\n",
       "      <th>1</th>\n",
       "      <td>tt0169102</td>\n",
       "      <td>Lagaan: Once Upon a Time in India</td>\n",
       "      <td>2001</td>\n",
       "      <td>08 May 2002</td>\n",
       "      <td>Adventure | Drama | Musical</td>\n",
       "      <td>Ashutosh Gowariker (story) | Ashutosh Gowarike...</td>\n",
       "      <td>Aamir Khan | Gracy Singh | Rachel Shelley | Pa...</td>\n",
       "      <td>Ashutosh Gowariker</td>\n",
       "      <td>0.0</td>\n",
       "      <td>6</td>\n",
       "    </tr>\n",
       "    <tr>\n",
       "      <th>2</th>\n",
       "      <td>tt0187279</td>\n",
       "      <td>Meri Biwi Ka Jawab Nahin</td>\n",
       "      <td>2004</td>\n",
       "      <td>02 Jul 2004</td>\n",
       "      <td>Action | Comedy</td>\n",
       "      <td>NaN</td>\n",
       "      <td>Akshay Kumar | Sridevi | Gulshan Grover | Laxm...</td>\n",
       "      <td>Pankaj Parashar | S.M. Iqbal</td>\n",
       "      <td>0.0</td>\n",
       "      <td>1</td>\n",
       "    </tr>\n",
       "    <tr>\n",
       "      <th>3</th>\n",
       "      <td>tt0222024</td>\n",
       "      <td>Hum Tumhare Hain Sanam</td>\n",
       "      <td>2002</td>\n",
       "      <td>24 May 2002</td>\n",
       "      <td>Drama | Romance</td>\n",
       "      <td>K.S. Adiyaman | Arun Kumar (assistant dialogue...</td>\n",
       "      <td>Shah Rukh Khan | Madhuri Dixit | Salman Khan |...</td>\n",
       "      <td>K.S. Adiyaman</td>\n",
       "      <td>0.0</td>\n",
       "      <td>4</td>\n",
       "    </tr>\n",
       "    <tr>\n",
       "      <th>4</th>\n",
       "      <td>tt0227194</td>\n",
       "      <td>One 2 Ka 4</td>\n",
       "      <td>2001</td>\n",
       "      <td>30 Mar 2001</td>\n",
       "      <td>Action | Comedy | Drama</td>\n",
       "      <td>Sanjay Chhel | Raaj Kumar Dahima (screenplay) ...</td>\n",
       "      <td>Shah Rukh Khan | Juhi Chawla | Jackie Shroff |...</td>\n",
       "      <td>Shashilal K. Nair</td>\n",
       "      <td>0.0</td>\n",
       "      <td>1</td>\n",
       "    </tr>\n",
       "  </tbody>\n",
       "</table>\n",
       "</div>"
      ],
      "text/plain": [
       "      imdbId                              title  releaseYear  releaseDate  \\\n",
       "0  tt0118578                             Albela         2001  20 Apr 2001   \n",
       "1  tt0169102  Lagaan: Once Upon a Time in India         2001  08 May 2002   \n",
       "2  tt0187279           Meri Biwi Ka Jawab Nahin         2004  02 Jul 2004   \n",
       "3  tt0222024             Hum Tumhare Hain Sanam         2002  24 May 2002   \n",
       "4  tt0227194                         One 2 Ka 4         2001  30 Mar 2001   \n",
       "\n",
       "                         genre  \\\n",
       "0                      Romance   \n",
       "1  Adventure | Drama | Musical   \n",
       "2              Action | Comedy   \n",
       "3              Drama | Romance   \n",
       "4      Action | Comedy | Drama   \n",
       "\n",
       "                                             writers  \\\n",
       "0  Honey Irani (screenplay) | Honey Irani (story)...   \n",
       "1  Ashutosh Gowariker (story) | Ashutosh Gowarike...   \n",
       "2                                                NaN   \n",
       "3  K.S. Adiyaman | Arun Kumar (assistant dialogue...   \n",
       "4  Sanjay Chhel | Raaj Kumar Dahima (screenplay) ...   \n",
       "\n",
       "                                              actors  \\\n",
       "0  Govinda | Aishwarya Rai Bachchan | Jackie Shro...   \n",
       "1  Aamir Khan | Gracy Singh | Rachel Shelley | Pa...   \n",
       "2  Akshay Kumar | Sridevi | Gulshan Grover | Laxm...   \n",
       "3  Shah Rukh Khan | Madhuri Dixit | Salman Khan |...   \n",
       "4  Shah Rukh Khan | Juhi Chawla | Jackie Shroff |...   \n",
       "\n",
       "                      directors  sequel  hitFlop  \n",
       "0                 Deepak Sareen     0.0        2  \n",
       "1            Ashutosh Gowariker     0.0        6  \n",
       "2  Pankaj Parashar | S.M. Iqbal     0.0        1  \n",
       "3                 K.S. Adiyaman     0.0        4  \n",
       "4             Shashilal K. Nair     0.0        1  "
      ]
     },
     "execution_count": 6,
     "metadata": {},
     "output_type": "execute_result"
    }
   ],
   "source": [
    "p.head()"
   ]
  },
  {
   "cell_type": "code",
   "execution_count": 7,
   "id": "829b9097-5cd9-417c-ab01-6bbdd91d69ea",
   "metadata": {
    "tags": []
   },
   "outputs": [
    {
     "data": {
      "text/plain": [
       "<bound method DataFrame.info of          imdbId                              title  releaseYear  releaseDate  \\\n",
       "0     tt0118578                             Albela         2001  20 Apr 2001   \n",
       "1     tt0169102  Lagaan: Once Upon a Time in India         2001  08 May 2002   \n",
       "2     tt0187279           Meri Biwi Ka Jawab Nahin         2004  02 Jul 2004   \n",
       "3     tt0222024             Hum Tumhare Hain Sanam         2002  24 May 2002   \n",
       "4     tt0227194                         One 2 Ka 4         2001  30 Mar 2001   \n",
       "...         ...                                ...          ...          ...   \n",
       "1279  tt4121522               Shuruaat Ka Interval         2014  15 Aug 2014   \n",
       "1280  tt4187650                   Trip to Bhangarh         2014  28 Aug 2014   \n",
       "1281  tt4190220                           Zed Plus         2014  28 Nov 2014   \n",
       "1282  tt4219300                    Gollu aur Pappu         2014  21 Nov 2014   \n",
       "1283  tt4228746                                Zid         2014  28 Nov 2014   \n",
       "\n",
       "                            genre  \\\n",
       "0                         Romance   \n",
       "1     Adventure | Drama | Musical   \n",
       "2                 Action | Comedy   \n",
       "3                 Drama | Romance   \n",
       "4         Action | Comedy | Drama   \n",
       "...                           ...   \n",
       "1279                          NaN   \n",
       "1280                       Horror   \n",
       "1281                          NaN   \n",
       "1282                       Comedy   \n",
       "1283                     Thriller   \n",
       "\n",
       "                                                writers  \\\n",
       "0     Honey Irani (screenplay) | Honey Irani (story)...   \n",
       "1     Ashutosh Gowariker (story) | Ashutosh Gowarike...   \n",
       "2                                                   NaN   \n",
       "3     K.S. Adiyaman | Arun Kumar (assistant dialogue...   \n",
       "4     Sanjay Chhel | Raaj Kumar Dahima (screenplay) ...   \n",
       "...                                                 ...   \n",
       "1279  Aarti S. Bagdi | Amrit Raj Gupta | Krishan Hoo...   \n",
       "1280                                                NaN   \n",
       "1281  Chandra Prakash Dwivedi (screen play and dialo...   \n",
       "1282                                                NaN   \n",
       "1283                   Vivek Agnihotri | Rohit Malhotra   \n",
       "\n",
       "                                                 actors  \\\n",
       "0     Govinda | Aishwarya Rai Bachchan | Jackie Shro...   \n",
       "1     Aamir Khan | Gracy Singh | Rachel Shelley | Pa...   \n",
       "2     Akshay Kumar | Sridevi | Gulshan Grover | Laxm...   \n",
       "3     Shah Rukh Khan | Madhuri Dixit | Salman Khan |...   \n",
       "4     Shah Rukh Khan | Juhi Chawla | Jackie Shroff |...   \n",
       "...                                                 ...   \n",
       "1279  Kaivalya Chheda | Rajsekhar Aningi | Avidant B...   \n",
       "1280  Manish Choudhary | Suzanna Mukherjee | Poonam ...   \n",
       "1281  Adil Hussain | Ekavali Khanna | Kulbhushan Kha...   \n",
       "1282  Vir Das | Sandeepa Dhar | Rahul Handa | Dimple...   \n",
       "1283  Shradha Das | Mohan Kapoor | Mannara | Karanvi...   \n",
       "\n",
       "                                              directors  sequel  hitFlop  \n",
       "0                                         Deepak Sareen     0.0        2  \n",
       "1                                    Ashutosh Gowariker     0.0        6  \n",
       "2                          Pankaj Parashar | S.M. Iqbal     0.0        1  \n",
       "3                                         K.S. Adiyaman     0.0        4  \n",
       "4                                     Shashilal K. Nair     0.0        1  \n",
       "...                                                 ...     ...      ...  \n",
       "1279  Aarti S. Bagdi | Amrit Raj Gupta | Krishan Hoo...     0.0        1  \n",
       "1280                                     Jitendra Pawar     0.0        1  \n",
       "1281                            Chandra Prakash Dwivedi     0.0        1  \n",
       "1282                                     Kabir Sadanand     0.0        1  \n",
       "1283                     Rohit Malhotra | Anubhav Sinha     0.0        2  \n",
       "\n",
       "[1284 rows x 10 columns]>"
      ]
     },
     "execution_count": 7,
     "metadata": {},
     "output_type": "execute_result"
    }
   ],
   "source": [
    "p.info"
   ]
  },
  {
   "cell_type": "code",
   "execution_count": 8,
   "id": "4481e91e-779f-4167-9912-2d4984daf1e1",
   "metadata": {},
   "outputs": [
    {
     "data": {
      "text/html": [
       "<div>\n",
       "<style scoped>\n",
       "    .dataframe tbody tr th:only-of-type {\n",
       "        vertical-align: middle;\n",
       "    }\n",
       "\n",
       "    .dataframe tbody tr th {\n",
       "        vertical-align: top;\n",
       "    }\n",
       "\n",
       "    .dataframe thead th {\n",
       "        text-align: right;\n",
       "    }\n",
       "</style>\n",
       "<table border=\"1\" class=\"dataframe\">\n",
       "  <thead>\n",
       "    <tr style=\"text-align: right;\">\n",
       "      <th></th>\n",
       "      <th>releaseYear</th>\n",
       "      <th>sequel</th>\n",
       "      <th>hitFlop</th>\n",
       "    </tr>\n",
       "  </thead>\n",
       "  <tbody>\n",
       "    <tr>\n",
       "      <th>count</th>\n",
       "      <td>1284.000000</td>\n",
       "      <td>1281.000000</td>\n",
       "      <td>1284.000000</td>\n",
       "    </tr>\n",
       "    <tr>\n",
       "      <th>mean</th>\n",
       "      <td>2007.989097</td>\n",
       "      <td>0.035129</td>\n",
       "      <td>2.144081</td>\n",
       "    </tr>\n",
       "    <tr>\n",
       "      <th>std</th>\n",
       "      <td>4.005243</td>\n",
       "      <td>0.188371</td>\n",
       "      <td>1.812820</td>\n",
       "    </tr>\n",
       "    <tr>\n",
       "      <th>min</th>\n",
       "      <td>2001.000000</td>\n",
       "      <td>0.000000</td>\n",
       "      <td>1.000000</td>\n",
       "    </tr>\n",
       "    <tr>\n",
       "      <th>25%</th>\n",
       "      <td>2004.000000</td>\n",
       "      <td>0.000000</td>\n",
       "      <td>1.000000</td>\n",
       "    </tr>\n",
       "    <tr>\n",
       "      <th>50%</th>\n",
       "      <td>2008.000000</td>\n",
       "      <td>0.000000</td>\n",
       "      <td>1.000000</td>\n",
       "    </tr>\n",
       "    <tr>\n",
       "      <th>75%</th>\n",
       "      <td>2011.000000</td>\n",
       "      <td>0.000000</td>\n",
       "      <td>2.000000</td>\n",
       "    </tr>\n",
       "    <tr>\n",
       "      <th>max</th>\n",
       "      <td>2014.000000</td>\n",
       "      <td>2.000000</td>\n",
       "      <td>9.000000</td>\n",
       "    </tr>\n",
       "  </tbody>\n",
       "</table>\n",
       "</div>"
      ],
      "text/plain": [
       "       releaseYear       sequel      hitFlop\n",
       "count  1284.000000  1281.000000  1284.000000\n",
       "mean   2007.989097     0.035129     2.144081\n",
       "std       4.005243     0.188371     1.812820\n",
       "min    2001.000000     0.000000     1.000000\n",
       "25%    2004.000000     0.000000     1.000000\n",
       "50%    2008.000000     0.000000     1.000000\n",
       "75%    2011.000000     0.000000     2.000000\n",
       "max    2014.000000     2.000000     9.000000"
      ]
     },
     "execution_count": 8,
     "metadata": {},
     "output_type": "execute_result"
    }
   ],
   "source": [
    "p.describe()"
   ]
  },
  {
   "cell_type": "code",
   "execution_count": 9,
   "id": "4bceea2c-5071-463b-bd65-63d6b32fe412",
   "metadata": {},
   "outputs": [
    {
     "data": {
      "text/plain": [
       "imdbId         1284\n",
       "title          1284\n",
       "releaseYear      14\n",
       "releaseDate     710\n",
       "genre           215\n",
       "writers        1109\n",
       "actors         1281\n",
       "directors       731\n",
       "sequel            3\n",
       "hitFlop           9\n",
       "dtype: int64"
      ]
     },
     "execution_count": 9,
     "metadata": {},
     "output_type": "execute_result"
    }
   ],
   "source": [
    "p.nunique()"
   ]
  },
  {
   "cell_type": "code",
   "execution_count": 10,
   "id": "fefe1698-d33d-41ee-b5c6-ca73f902f153",
   "metadata": {},
   "outputs": [
    {
     "data": {
      "text/plain": [
       "215"
      ]
     },
     "execution_count": 10,
     "metadata": {},
     "output_type": "execute_result"
    }
   ],
   "source": [
    "p['genre'].nunique()"
   ]
  },
  {
   "cell_type": "code",
   "execution_count": 11,
   "id": "a2dc7e7d-ea5c-4422-82fb-a365df2daba8",
   "metadata": {},
   "outputs": [
    {
     "data": {
      "text/html": [
       "<div>\n",
       "<style scoped>\n",
       "    .dataframe tbody tr th:only-of-type {\n",
       "        vertical-align: middle;\n",
       "    }\n",
       "\n",
       "    .dataframe tbody tr th {\n",
       "        vertical-align: top;\n",
       "    }\n",
       "\n",
       "    .dataframe thead th {\n",
       "        text-align: right;\n",
       "    }\n",
       "</style>\n",
       "<table border=\"1\" class=\"dataframe\">\n",
       "  <thead>\n",
       "    <tr style=\"text-align: right;\">\n",
       "      <th></th>\n",
       "      <th>releaseYear</th>\n",
       "      <th>sequel</th>\n",
       "      <th>hitFlop</th>\n",
       "    </tr>\n",
       "  </thead>\n",
       "  <tbody>\n",
       "    <tr>\n",
       "      <th>releaseYear</th>\n",
       "      <td>1.000000</td>\n",
       "      <td>0.132172</td>\n",
       "      <td>0.009878</td>\n",
       "    </tr>\n",
       "    <tr>\n",
       "      <th>sequel</th>\n",
       "      <td>0.132172</td>\n",
       "      <td>1.000000</td>\n",
       "      <td>0.251237</td>\n",
       "    </tr>\n",
       "    <tr>\n",
       "      <th>hitFlop</th>\n",
       "      <td>0.009878</td>\n",
       "      <td>0.251237</td>\n",
       "      <td>1.000000</td>\n",
       "    </tr>\n",
       "  </tbody>\n",
       "</table>\n",
       "</div>"
      ],
      "text/plain": [
       "             releaseYear    sequel   hitFlop\n",
       "releaseYear     1.000000  0.132172  0.009878\n",
       "sequel          0.132172  1.000000  0.251237\n",
       "hitFlop         0.009878  0.251237  1.000000"
      ]
     },
     "execution_count": 11,
     "metadata": {},
     "output_type": "execute_result"
    }
   ],
   "source": [
    "p.corr()"
   ]
  },
  {
   "cell_type": "code",
   "execution_count": 12,
   "id": "24c7e144-b938-4dbb-9252-8930a336efe1",
   "metadata": {},
   "outputs": [
    {
     "data": {
      "text/plain": [
       "Index(['imdbId', 'title', 'releaseYear', 'releaseDate', 'genre', 'writers',\n",
       "       'actors', 'directors', 'sequel', 'hitFlop'],\n",
       "      dtype='object')"
      ]
     },
     "execution_count": 12,
     "metadata": {},
     "output_type": "execute_result"
    }
   ],
   "source": [
    "p.columns"
   ]
  },
  {
   "cell_type": "code",
   "execution_count": 13,
   "id": "b88d2620-b778-4140-9a56-29f17e7e5bf1",
   "metadata": {},
   "outputs": [
    {
     "data": {
      "image/png": "[encoded data removed]",
      "text/plain": [
       "<Figure size 540x540 with 12 Axes>"
      ]
     },
     "metadata": {
      "needs_background": "light"
     },
     "output_type": "display_data"
    }
   ],
   "source": [
    "s=sns.pairplot(p)"
   ]
  },
  {
   "cell_type": "code",
   "execution_count": 14,
   "id": "2dc38e19-c9c2-475f-b10d-7671238db583",
   "metadata": {},
   "outputs": [],
   "source": [
    "#plt.hexbin(p['actors'],p['genre'],gridsize=17,cmap='coolwarm')"
   ]
  },
  {
   "cell_type": "code",
   "execution_count": 15,
   "id": "1b3d58e6-0625-4903-a9e7-39c2c280b8fc",
   "metadata": {},
   "outputs": [],
   "source": [
    "#p= plt.boxplot(p['releaseDate'])"
   ]
  },
  {
   "cell_type": "code",
   "execution_count": 16,
   "id": "8700bd55-b74e-4add-b990-a4edfee650a4",
   "metadata": {},
   "outputs": [],
   "source": [
    "#s=sns.scatterplot(x=releaseYear)"
   ]
  },
  {
   "cell_type": "code",
   "execution_count": 17,
   "id": "6aad1dd1-b42c-4f73-95e8-b8e7a1c77e88",
   "metadata": {},
   "outputs": [],
   "source": [
    "from sklearn.model_selection import train_test_split"
   ]
  },
  {
   "cell_type": "code",
   "execution_count": 18,
   "id": "288ad834-e1de-4b08-8e70-ba9b93fef45c",
   "metadata": {},
   "outputs": [],
   "source": [
    "#ptrain , ptest ,=train_test_split(p,test_size=0.2 , random_state=100)"
   ]
  },
  {
   "cell_type": "code",
   "execution_count": 19,
   "id": "eb08c9ba-631e-4cbf-abdd-74902b2a4ea4",
   "metadata": {},
   "outputs": [],
   "source": [
    "from sklearn.linear_model import LinearRegression"
   ]
  },
  {
   "cell_type": "code",
   "execution_count": 20,
   "id": "d60b43c3-7f63-4015-ab95-968cb2cbd578",
   "metadata": {},
   "outputs": [],
   "source": [
    "#model = LinearRegression().fit(ptrain,ptrain)"
   ]
  },
  {
   "cell_type": "code",
   "execution_count": 21,
   "id": "5db5c8d8-d040-421a-ad5e-d4e467c79a54",
   "metadata": {},
   "outputs": [],
   "source": [
    "#s = sns.scatterplot(x=releaseDate,y=releaseYear)"
   ]
  },
  {
   "cell_type": "code",
   "execution_count": 22,
   "id": "b74b5521-f2cf-4cee-be4e-ae846b0ca917",
   "metadata": {},
   "outputs": [
    {
     "data": {
      "image/png": "[encoded data removed]",
      "text/plain": [
       "<Figure size 432x288 with 1 Axes>"
      ]
     },
     "metadata": {
      "needs_background": "light"
     },
     "output_type": "display_data"
    }
   ],
   "source": [
    " s = sns.countplot(x='releaseYear',data=p)"
   ]
  },
  {
   "cell_type": "code",
   "execution_count": 23,
   "id": "ecdffbbf-8bea-4ba5-8a4a-5bace0322de5",
   "metadata": {},
   "outputs": [],
   "source": [
    "from sklearn.model_selection import train_test_split"
   ]
  },
  {
   "cell_type": "code",
   "execution_count": 24,
   "id": "99994974-0928-4cd2-9390-ef4e12957c08",
   "metadata": {},
   "outputs": [],
   "source": [
    " ptrain , ptest = train_test_split(p,test_size=0.2 , random_state=100)"
   ]
  },
  {
   "cell_type": "code",
   "execution_count": 25,
   "id": "5b0451d8-a24a-492b-a6d8-241dd6e82b32",
   "metadata": {},
   "outputs": [],
   "source": [
    "from sklearn.linear_model import LinearRegression"
   ]
  },
  {
   "cell_type": "code",
   "execution_count": 26,
   "id": "3ed0c445-4fbd-46f0-99d3-6d0a5d8f5654",
   "metadata": {},
   "outputs": [],
   "source": [
    "#pp = LinearRegression().fit(ptrain,ptest)"
   ]
  },
  {
   "cell_type": "code",
   "execution_count": 27,
   "id": "f926fd91-7b39-41cf-8f86-ec5fcc96cab2",
   "metadata": {},
   "outputs": [],
   "source": [
    "pd.to_pickle(p,'HitFlopPredictor.pkl')"
   ]
  },
  {
   "cell_type": "code",
   "execution_count": 28,
   "id": "b9bebac3-9d41-4fa5-843b-33c9e8c7c84e",
   "metadata": {},
   "outputs": [],
   "source": [
    "p= pd.read_pickle('HitFlopPredictor.pkl')"
   ]
  },
  {
   "cell_type": "code",
   "execution_count": 29,
   "id": "c945a86b-4fe7-4a94-935d-c1e9a38660cd",
   "metadata": {},
   "outputs": [],
   "source": [
    "import tkinter as tkn"
   ]
  },
  {
   "cell_type": "code",
   "execution_count": 30,
   "id": "f6748893-e986-4447-9422-b5208823508c",
   "metadata": {},
   "outputs": [
    {
     "name": "stderr",
     "output_type": "stream",
     "text": [
      "Exception in Tkinter callback\n",
      "Traceback (most recent call last):\n",
      "  File \"C:\\Users\\HP\\anaconda3\\lib\\tkinter\\__init__.py\", line 1892, in __call__\n",
      "    return self.func(*args)\n",
      "  File \"C:\\Users\\HP\\AppData\\Local\\Temp/ipykernel_17296/759192790.py\", line 28, in prediction\n",
      "    imbdid=eval(imbdid.get())\n",
      "UnboundLocalError: local variable 'imbdid' referenced before assignment\n"
     ]
    }
   ],
   "source": [
    "app = tkn.Tk()\n",
    "app.geometry('300x250')\n",
    "app.title('Hit/Flop Predictor')\n",
    "mod=pd.read_pickle('HousePricePredictor.pkl')\n",
    "\n",
    "imbdid=tkn.Variable(app)\n",
    "ry=tkn.Variable(app)\n",
    "rd=tkn.Variable(app)\n",
    "sq=tkn.Variable(app)\n",
    "result=tkn.Variable(app)\n",
    "\n",
    "tkn.Label(app,text='IMDB ID',font=('Arial',15)).place(x=10,y=20)\n",
    "tkn.Label(app,text='RELEASE YEAR',font=('Arial',15)).place(x=10,y=50)\n",
    "tkn.Label(app,text='RELEASE DATE',font=('Arial',15)).place(x=10,y=80)\n",
    "tkn.Label(app,text='SEQUEL',font=('Arial',15)).place(x=10,y=110)\n",
    "tkn.Label(app,text='Result',font=('Arial',15)).place(x=10,y=140)\n",
    "\n",
    "\n",
    "tkn.Entry(app,textvariable=imbdid,width=15,font=('Arial',15)).place(x=130,y=20)\n",
    "tkn.Entry(app,textvariable=ry,width=15,font=('Arial',15)).place(x=130,y=50)\n",
    "tkn.Entry(app,textvariable=rd,width=15,font=('Arial',15)).place(x=130,y=80)\n",
    "tkn.Entry(app,textvariable=sq,width=15,font=('Arial',15)).place(x=130,y=110)\n",
    "tkn.Label(app,textvariable=result,width=15,font=('Arial',15)).place(x=130,y=140)\n",
    "\n",
    "\n",
    "def prediction():\n",
    "    global mod\n",
    "    imbdid=eval(imbdid.get())\n",
    "    releaseYear=eval(ry.get())\n",
    "    releaseDate=eval(rd.get())\n",
    "    sequel=eval(sq.get())\n",
    "    query=[[imbdid,releaseYear,releaseDate,sequel]]\n",
    "    result.set(round(mod.predict(query)[0],0))\n",
    "    \n",
    "tkn.Button(app,text='Predict',font=('Arial',15),bg='white',command=prediction).place(x=110,y=160)\n",
    "\n",
    "\n",
    "\n",
    "app.mainloop()"
   ]
  },
  {
   "cell_type": "code",
   "execution_count": null,
   "id": "6fcedf3e-51ae-43e5-a666-59c873701156",
   "metadata": {},
   "outputs": [],
   "source": []
  }
 ],
 "metadata": {
  "kernelspec": {
   "display_name": "Python 3 (ipykernel)",
   "language": "python",
   "name": "python3"
  },
  "language_info": {
   "codemirror_mode": {
    "name": "ipython",
    "version": 3
   },
   "file_extension": ".py",
   "mimetype": "text/x-python",
   "name": "python",
   "nbconvert_exporter": "python",
   "pygments_lexer": "ipython3",
   "version": "3.9.7"
  }
 },
 "nbformat": 4,
 "nbformat_minor": 5
}
